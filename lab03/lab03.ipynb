{
 "cells": [
  {
   "cell_type": "code",
   "execution_count": 3,
   "id": "northern-batch",
   "metadata": {},
   "outputs": [],
   "source": [
    "x0 = 38000\n",
    "y0 = 29000\n",
    "t0 = 0 #начальный момент времени\n",
    "\n",
    "a = 0.41\n",
    "b = 0.76\n",
    "c = 0.59\n",
    "h = 0.63\n",
    "\n",
    "tMax = 1\n",
    "\n",
    "dt = \n"
   ]
  }
 ],
 "metadata": {
  "kernelspec": {
   "display_name": "Python 3",
   "language": "python",
   "name": "python3"
  },
  "language_info": {
   "codemirror_mode": {
    "name": "ipython",
    "version": 3
   },
   "file_extension": ".py",
   "mimetype": "text/x-python",
   "name": "python",
   "nbconvert_exporter": "python",
   "pygments_lexer": "ipython3",
   "version": "3.9.1"
  }
 },
 "nbformat": 4,
 "nbformat_minor": 5
}
